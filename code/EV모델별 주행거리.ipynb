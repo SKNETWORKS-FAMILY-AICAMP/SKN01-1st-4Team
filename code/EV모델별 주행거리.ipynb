{
 "cells": [
  {
   "cell_type": "code",
   "execution_count": 2,
   "metadata": {},
   "outputs": [],
   "source": [
    "from selenium import webdriver\n",
    "from bs4 import BeautifulSoup\n",
    "\n",
    "import pandas as pd"
   ]
  },
  {
   "cell_type": "code",
   "execution_count": 3,
   "metadata": {},
   "outputs": [],
   "source": [
    "# 웹스크래핑\n",
    "driver = webdriver.Chrome()\n",
    "url = \"https://tridenstechnology.com/ko/%EC%A0%84%EA%B8%B0-%EC%9E%90%EB%8F%99%EC%B0%A8-%EB%B2%94%EC%9C%84%EB%B3%84/\"\n",
    "driver.get(url)\n",
    "soup = BeautifulSoup(driver.page_source, \"html.parser\")\n",
    "driver.quit()\n",
    "\n",
    "# 데이터 추출\n",
    "data = []\n",
    "for row in soup.select(\"#post-13749 > div.entry-content > figure.wp-block-table > table > tbody tr\"):\n",
    "    data.append([data.text for data in row.select(\"td\")])\n",
    "\n",
    "df = pd.DataFrame(data, columns=[\"모델\", \"범위(km)\", \"범위(mile)\"])\n",
    "\n",
    "# .xlsx 파일로 저장\n",
    "df.to_excel(\"./EV모델별 주행거리.xlsx\", index=False)"
   ]
  },
  {
   "cell_type": "code",
   "execution_count": null,
   "metadata": {},
   "outputs": [],
   "source": []
  }
 ],
 "metadata": {
  "kernelspec": {
   "display_name": "mini1",
   "language": "python",
   "name": "python3"
  },
  "language_info": {
   "codemirror_mode": {
    "name": "ipython",
    "version": 3
   },
   "file_extension": ".py",
   "mimetype": "text/x-python",
   "name": "python",
   "nbconvert_exporter": "python",
   "pygments_lexer": "ipython3",
   "version": "3.9.19"
  }
 },
 "nbformat": 4,
 "nbformat_minor": 2
}
