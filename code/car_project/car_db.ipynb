{
 "cells": [
  {
   "cell_type": "code",
   "execution_count": 7,
   "id": "9448d431-c54b-4467-85bf-90f350a514db",
   "metadata": {},
   "outputs": [
    {
     "name": "stdout",
     "output_type": "stream",
     "text": [
      "Collecting pymysql\n",
      "  Downloading PyMySQL-1.1.1-py3-none-any.whl.metadata (4.4 kB)\n",
      "Downloading PyMySQL-1.1.1-py3-none-any.whl (44 kB)\n",
      "   ---------------------------------------- 0.0/45.0 kB ? eta -:--:--\n",
      "   ------------------ --------------------- 20.5/45.0 kB ? eta -:--:--\n",
      "   ---------------------------------------- 45.0/45.0 kB 1.1 MB/s eta 0:00:00\n",
      "Installing collected packages: pymysql\n",
      "Successfully installed pymysql-1.1.1\n"
     ]
    }
   ],
   "source": [
    "!pip install pymysql"
   ]
  },
  {
   "cell_type": "code",
   "execution_count": 9,
   "id": "973a6eca-8c35-4197-a2ff-b6de2cf58fb8",
   "metadata": {},
   "outputs": [
    {
     "data": {
      "text/plain": [
       "21"
      ]
     },
     "execution_count": 9,
     "metadata": {},
     "output_type": "execute_result"
    }
   ],
   "source": [
    "from sqlalchemy import create_engine\n",
    "import pandas as p\n",
    "import pymysql\n",
    "\n",
    "df = p.read_csv(r\"C:\\Users\\USER\\Desktop\\car_project\\전체_찐.csv\")\n",
    "db_connection_str = 'mysql+pymysql://root@192.168.0.30:3306/cardb'\n",
    "db_connection = create_engine(db_connection_str)\n",
    "db_conn = db_connection.connect()\n",
    "df.to_sql(name = 'faq',\n",
    "             con = db_connection, \n",
    "             schema = 'cardb', \n",
    "             if_exists = 'replace',\n",
    "             index = False)"
   ]
  }
 ],
 "metadata": {
  "kernelspec": {
   "display_name": "Python 3 (ipykernel)",
   "language": "python",
   "name": "python3"
  },
  "language_info": {
   "codemirror_mode": {
    "name": "ipython",
    "version": 3
   },
   "file_extension": ".py",
   "mimetype": "text/x-python",
   "name": "python",
   "nbconvert_exporter": "python",
   "pygments_lexer": "ipython3",
   "version": "3.11.7"
  }
 },
 "nbformat": 4,
 "nbformat_minor": 5
}
