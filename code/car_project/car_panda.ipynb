{
 "cells": [
  {
   "cell_type": "code",
   "execution_count": 1,
   "id": "1698a316-c54f-4251-b032-fd2e326f619a",
   "metadata": {},
   "outputs": [],
   "source": [
    "import pandas as pd"
   ]
  },
  {
   "cell_type": "code",
   "execution_count": 8,
   "id": "14e04bb5-918e-48f2-a548-cf6b7ab7dad8",
   "metadata": {},
   "outputs": [],
   "source": [
    "df1 = pd.read_csv(\"./기타.csv\")\n",
    "df2 = pd.read_csv(\"./충전기사용.csv\")\n",
    "df3 = pd.read_csv(\"./충전요금.csv\")\n",
    "df4 = pd.read_csv(\"./회원가입.csv\")\n",
    "\n",
    "df = pd.concat([df3, df2, df4, df1]).reset_index(drop=True)\n",
    "\n",
    "df.to_csv(\"./전체_찐.csv\", index = False, encoding='utf-8')\n"
   ]
  },
  {
   "cell_type": "code",
   "execution_count": null,
   "id": "10750701-caf9-41e8-8b3b-87f1f11c2b19",
   "metadata": {},
   "outputs": [],
   "source": []
  },
  {
   "cell_type": "code",
   "execution_count": null,
   "id": "ae58642f-0baf-4373-876d-272c9c3ab09a",
   "metadata": {},
   "outputs": [],
   "source": []
  },
  {
   "cell_type": "code",
   "execution_count": null,
   "id": "066bc7d9-af56-4f4d-a00e-bf775aa27efd",
   "metadata": {},
   "outputs": [],
   "source": []
  },
  {
   "cell_type": "code",
   "execution_count": null,
   "id": "f696670f-e6a6-473f-947d-870efc511525",
   "metadata": {},
   "outputs": [],
   "source": []
  }
 ],
 "metadata": {
  "kernelspec": {
   "display_name": "Python 3 (ipykernel)",
   "language": "python",
   "name": "python3"
  },
  "language_info": {
   "codemirror_mode": {
    "name": "ipython",
    "version": 3
   },
   "file_extension": ".py",
   "mimetype": "text/x-python",
   "name": "python",
   "nbconvert_exporter": "python",
   "pygments_lexer": "ipython3",
   "version": "3.11.7"
  }
 },
 "nbformat": 4,
 "nbformat_minor": 5
}
