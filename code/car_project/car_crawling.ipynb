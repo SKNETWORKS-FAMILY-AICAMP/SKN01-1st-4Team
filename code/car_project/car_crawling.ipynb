{
 "cells": [
  {
   "cell_type": "code",
   "execution_count": 1,
   "id": "63a9d989-82a8-48aa-90fb-3cf1f0df7b6b",
   "metadata": {},
   "outputs": [
    {
     "data": {
      "text/plain": [
       "'https://skelectlink.co.kr/support'"
      ]
     },
     "execution_count": 1,
     "metadata": {},
     "output_type": "execute_result"
    }
   ],
   "source": [
    "# https://skelectlink.co.kr/support\n",
    "\n",
    "from bs4 import BeautifulSoup\n",
    "import requests\n",
    "import pandas as pd\n",
    "\n",
    "base_url = \"https://skelectlink.co.kr\"\n",
    "cap_total_url = \"/support\"\n",
    "base_url + cap_total_url"
   ]
  },
  {
   "cell_type": "code",
   "execution_count": 2,
   "id": "7a7b4295-14e2-4bbb-af77-6281ffe6a506",
   "metadata": {},
   "outputs": [
    {
     "data": {
      "text/plain": [
       "200"
      ]
     },
     "execution_count": 2,
     "metadata": {},
     "output_type": "execute_result"
    }
   ],
   "source": [
    "# get html\n",
    "headers = { 'User-Agent': 'Mozilla/5.0 (Windows NT 10.0; Win64; x64) AppleWebKit/537.36 (KHTML, like Gecko) Chrome/58.0.3029.110 Safari/537.3'}\n",
    "response = requests.get(base_url+cap_total_url, headers = headers)\n",
    "response.status_code"
   ]
  },
  {
   "cell_type": "code",
   "execution_count": 3,
   "id": "7f3a5e37-2f87-4de8-a5d8-f2b3306e30a9",
   "metadata": {
    "scrolled": true
   },
   "outputs": [
    {
     "data": {
      "text/plain": [
       "<!DOCTYPE html>\n",
       "<html><head><meta content=\"width=device-width\" name=\"viewport\"/><meta charset=\"utf-8\"/><title>SK일렉링크 | On Your Way, Always!</title><meta content=\"index,follow\" name=\"robots\"/><meta content=\"index,follow\" name=\"googlebot\"/><meta content=\"SK일렉링크 | On Your Way, Always!\" name=\"description\"/><meta content=\"SK일렉링크 | On Your Way, Always!\" property=\"og:title\"/><meta content=\"SK일렉링크 | On Your Way, Always!\" property=\"og:description\"/><meta content=\"https://sscharger.co.kr\" property=\"og:url\"/><meta content=\"website\" property=\"og:type\"/><meta content=\"https://prod-image.sscharger.io/ssc/images/meta/kakao_skel.png\" property=\"og:image\"/><meta content=\"ko_KR\" property=\"og:locale\"/><meta content=\"SK일렉링크\" property=\"og:site_name\"/><meta content=\"SK일렉링크, skelectlink, SKelectlink, SK 일렉링크, SK electlink, sk electlink\" name=\"keywords\"/><meta content=\"14\" name=\"next-head-count\"/><meta charset=\"utf-8\"/><title>SK일렉링크 | On Your Way, Always!</title><link href=\"/skel_favicon.ico\" rel=\"shortcut icon\" type=\"image/x-icon\"/><link href=\"/skel_favicon.ico\" rel=\"icon\" type=\"image/x-icon\"/><link href=\"/css/jquery.fullpage.css\" rel=\"stylesheet\"/><link href=\"/favicon/skel_favicon.ico\" rel=\"apple-touch-icon\" sizes=\"76x76\"/><link href=\"/favicon/skel_favicon.ico\" rel=\"icon\" sizes=\"32x32\" type=\"image/png\"/><link href=\"/favicon/skel_favicon.ico\" rel=\"icon\" sizes=\"16x16\" type=\"image/png\"/><link href=\"/favicon/site.webmanifest\" rel=\"manifest\"/><link color=\"#7b42ff\" href=\"/favicon/safari-pinned-tab.svg\" rel=\"mask-icon\"/><link href=\"/favicon/skel_favicon.ico\" rel=\"shortcut icon\"/><meta content=\"d166a4bdcc3dca31981d6f5ec9024215854a2f9b\" name=\"naver-site-verification\"/><meta content=\"#7b42ff\" name=\"msapplication-TileColor\"/><meta content=\"/favicon/browserconfig.xml\" name=\"msapplication-config\"/><meta content=\"#ffffff\" name=\"theme-color\"/><script src=\"https://openapi.map.naver.com/openapi/v3/maps.js?ncpClientId=dvoxcirurm\" type=\"text/javascript\"></script><link as=\"style\" href=\"/_next/static/css/1b60cba0b7b9c0d9.css\" rel=\"preload\"/><link data-n-g=\"\" href=\"/_next/static/css/1b60cba0b7b9c0d9.css\" rel=\"stylesheet\"/><noscript data-n-css=\"\"></noscript><script defer=\"\" nomodule=\"\" src=\"/_next/static/chunks/polyfills-5cd94c89d3acac5f.js\"></script><script defer=\"\" src=\"/_next/static/chunks/webpack-6dba46f61de3807d.js\"></script><script defer=\"\" src=\"/_next/static/chunks/framework-5a46ced06405f0e2.js\"></script><script defer=\"\" src=\"/_next/static/chunks/main-b0103c7a63722ca2.js\"></script><script defer=\"\" src=\"/_next/static/chunks/pages/_app-259e792effdd3f12.js\"></script><script defer=\"\" src=\"/_next/static/chunks/5675-fb8d91a4b61537be.js\"></script><script defer=\"\" src=\"/_next/static/chunks/722-79861b547f1c8dc1.js\"></script><script defer=\"\" src=\"/_next/static/chunks/8447-873901874784dc64.js\"></script><script defer=\"\" src=\"/_next/static/chunks/2926-0ac3eb80f7097025.js\"></script><script defer=\"\" src=\"/_next/static/chunks/pages/support-44195d5e45075190.js\"></script><script defer=\"\" src=\"/_next/static/oiMU01jbC8H82do_NE5lx/_buildManifest.js\"></script><script defer=\"\" src=\"/_next/static/oiMU01jbC8H82do_NE5lx/_ssgManifest.js\"></script><script defer=\"\" src=\"/_next/static/oiMU01jbC8H82do_NE5lx/_middlewareManifest.js\"></script><style data-styled=\"\" data-styled-version=\"5.3.5\">html,body,div,span,applet,object,iframe,h1,h2,h3,h4,h5,h6,p,blockquote,pre,a,abbr,acronym,address,big,cite,code,del,dfn,em,img,ins,kbd,q,s,samp,small,strike,strong,sub,sup,tt,var,b,u,i,center,dl,dt,dd,menu,ol,ul,li,fieldset,form,label,legend,table,caption,tbody,tfoot,thead,tr,th,td,article,aside,canvas,details,embed,figure,figcaption,footer,header,hgroup,main,menu,nav,output,ruby,section,summary,time,mark,audio,video{margin:0;padding:0;border:0;font-size:100%;font:inherit;vertical-align:baseline;}/*!sc*/\n",
       "article,aside,details,figcaption,figure,footer,header,hgroup,main,menu,nav,section{display:block;}/*!sc*/\n",
       "*[hidden]{display:none;}/*!sc*/\n",
       "body{line-height:1;}/*!sc*/\n",
       "menu,ol,ul{list-style:none;}/*!sc*/\n",
       "blockquote,q{quotes:none;}/*!sc*/\n",
       "blockquote:before,blockquote:after,q:before,q:after{content:'';content:none;}/*!sc*/\n",
       "table{border-collapse:collapse;border-spacing:0;}/*!sc*/\n",
       ":focus{outline:none;border:none;}/*!sc*/\n",
       "html{font-size:11px;font-weight:300;-webkit-text-size-adjust:none;font-family:Pretendard;font-display:fallback;}/*!sc*/\n",
       "@media (max-width:768px){html{font-size:10px;}}/*!sc*/\n",
       "button{background:none;padding:0;border:none;cursor:pointer;font-size:15px;}/*!sc*/\n",
       "button:disabled{cursor:default;fill:#f2f3f4;}/*!sc*/\n",
       ".pc-tablet-only{display:block;}/*!sc*/\n",
       "@media (max-width:576px){.pc-tablet-only{display:none;}}/*!sc*/\n",
       ".tablet-mobile-only{display:none;}/*!sc*/\n",
       "@media (max-width:768px){.tablet-mobile-only{display:block;}}/*!sc*/\n",
       ".mobile-only{display:none;}/*!sc*/\n",
       "@media (max-width:576px){.mobile-only{display:block;}}/*!sc*/\n",
       "data-styled.g2[id=\"sc-global-cwvpfo1\"]{content:\"sc-global-cwvpfo1,\"}/*!sc*/\n",
       ".dqPdIi{display:-webkit-box;display:-webkit-flex;display:-ms-flexbox;display:flex;position:fixed;top:0;z-index:120;width:100%;box-sizing:border-box;height:90px;-webkit-align-items:center;-webkit-box-align:center;-ms-flex-align:center;align-items:center;padding:0 80px;-webkit-transition:0.5s;transition:0.5s;border-bottom:1px solid #ececec;background:#fff;border-bottom:1px solid #ececec;}/*!sc*/\n",
       "data-styled.g3[id=\"sc-bczRLJ\"]{content:\"dqPdIi,\"}/*!sc*/\n",
       ".cLtXbv{-webkit-box-flex:1;-webkit-flex-grow:1;-ms-flex-positive:1;flex-grow:1;display:-webkit-box;display:-webkit-flex;display:-ms-flexbox;display:flex;-webkit-box-pack:center;-webkit-justify-content:center;-ms-flex-pack:center;justify-content:center;-webkit-align-items:center;-webkit-box-align:center;-ms-flex-align:center;align-items:center;}/*!sc*/\n",
       ".cLtXbv span{font-size:17px;-webkit-transition:0.5s;transition:0.5s;width:144px;text-align:center;position:relative;cursor:pointer;}/*!sc*/\n",
       ".cLtXbv span:hover{color:#7b42ff;}/*!sc*/\n",
       ".cLtXbv span{color:#180742;}/*!sc*/\n",
       ".cLtXbv span a{color:#180742;}/*!sc*/\n",
       "data-styled.g4[id=\"sc-gsnTZi\"]{content:\"cLtXbv,\"}/*!sc*/\n",
       ".gjaOBb{display:inline-block;width:1px;height:10px;margin:0 12px;background:#180742;}/*!sc*/\n",
       "data-styled.g5[id=\"sc-dkzDqf\"]{content:\"gjaOBb,\"}/*!sc*/\n",
       ".gEYcgN{width:153px;display:-webkit-box;display:-webkit-flex;display:-ms-flexbox;display:flex;-webkit-box-pack:end;-webkit-justify-content:flex-end;-ms-flex-pack:end;justify-content:flex-end;-webkit-align-items:center;-webkit-box-align:center;-ms-flex-align:center;align-items:center;}/*!sc*/\n",
       ".gEYcgN button{background:transparent;font-size:14px;}/*!sc*/\n",
       ".gEYcgN button{color:#180742;}/*!sc*/\n",
       "data-styled.g6[id=\"sc-hKMtZM\"]{content:\"gEYcgN,\"}/*!sc*/\n",
       ".fGrXbs{width:100%;position:absolute;top:90px;left:0;background:#fff;-webkit-box-pack:center;-webkit-justify-content:center;-ms-flex-pack:center;justify-content:center;padding-top:20px;padding-bottom:40px;-webkit-transition:0.5s;transition:0.5s;display:none;opacity:0;}/*!sc*/\n",
       ".fGrXbs > div{display:-webkit-box;display:-webkit-flex;display:-ms-flexbox;display:flex;-webkit-flex-direction:column;-ms-flex-direction:column;flex-direction:column;-webkit-align-items:center;-webkit-box-align:center;-ms-flex-align:center;align-items:center;}/*!sc*/\n",
       ".fGrXbs > div > span{color:#151515;font-size:15px;-webkit-letter-spacing:-0.16px;-moz-letter-spacing:-0.16px;-ms-letter-spacing:-0.16px;letter-spacing:-0.16px;cursor:pointer;}/*!sc*/\n",
       ".fGrXbs > div > span:hover{font-family:Pretendard-Bold;}/*!sc*/\n",
       ".fGrXbs > div > span + span{margin-top:12px;}/*!sc*/\n",
       "data-styled.g7[id=\"sc-eCYdqJ\"]{content:\"fGrXbs,\"}/*!sc*/\n",
       ".iCoUkK{position:absolute;width:5px;height:5px;border-radius:2.5px;top:-12px;left:50%;-webkit-transform:translateX(-50%);-ms-transform:translateX(-50%);transform:translateX(-50%);background:#7b42ff;}/*!sc*/\n",
       "data-styled.g8[id=\"sc-jSMfEi\"]{content:\"iCoUkK,\"}/*!sc*/\n",
       ".fbpvcS{background:url('/images/bg/bg_main_sec7.png') center;background-repeat:no-repeat;background-size:cover;position:relative;padding:84px 0 80px 0;}/*!sc*/\n",
       ".fbpvcS.active .motion-type-1{-webkit-transform:translateY(-60px);-ms-transform:translateY(-60px);transform:translateY(-60px);opacity:1;}/*!sc*/\n",
       ".fbpvcS.active .motion-type-2{-webkit-transition:all 1.3s ease-in-out;transition:all 1.3s ease-in-out;-webkit-transform:translateX(0);-ms-transform:translateX(0);transform:translateX(0);opacity:1;}/*!sc*/\n",
       ".fbpvcS.active .motion-type-3{opacity:1;}/*!sc*/\n",
       ".fbpvcS.fp-section,.fbpvcS .fp-slide,.fbpvcS.fp-tableCell{height:486px !important;}/*!sc*/\n",
       ".fbpvcS .fp-auto-height-responsive.fp-section,.fbpvcS .fp-auto-height-responsive .fp-slide,.fbpvcS .fp-auto-height-responsive .fp-tableCell{height:486px !important;}/*!sc*/\n",
       "data-styled.g9[id=\"sc-gKXOVf\"]{content:\"fbpvcS,\"}/*!sc*/\n",
       ".ktLCLc{width:1200px;height:486px;position:absolute;top:0;left:50%;-webkit-transform:translateX(-50%);-ms-transform:translateX(-50%);transform:translateX(-50%);}/*!sc*/\n",
       "data-styled.g10[id=\"sc-iBkjds\"]{content:\"ktLCLc,\"}/*!sc*/\n",
       ".cPaZov{display:block;clear:both;width:755px;height:486px;position:absolute;bottom:0;left:50%;}/*!sc*/\n",
       "data-styled.g11[id=\"sc-ftvSup\"]{content:\"cPaZov,\"}/*!sc*/\n",
       ".eDzkbI{color:#fff;font-weight:400;font-size:25px;-webkit-letter-spacing:-0.01em;-moz-letter-spacing:-0.01em;-ms-letter-spacing:-0.01em;letter-spacing:-0.01em;}/*!sc*/\n",
       "data-styled.g12[id=\"sc-papXJ\"]{content:\"eDzkbI,\"}/*!sc*/\n",
       ".cYabTh{padding:47px 0 50px 0;}/*!sc*/\n",
       "data-styled.g13[id=\"sc-jqUVSM\"]{content:\"cYabTh,\"}/*!sc*/\n",
       ".iHIete{background:#F5F4F8;padding:80px 0;font-size:15px;color:#151515;width:100%;}/*!sc*/\n",
       ".iHIete > div{max-width:1400px;margin:0 auto;position:relative;}/*!sc*/\n",
       ".iHIete > div > div{margin-bottom:12px;}/*!sc*/\n",
       ".iHIete a{color:#151515;margin-right:20px;}/*!sc*/\n",
       ".iHIete span{color:#808080;margin-right:10px;}/*!sc*/\n",
       "data-styled.g14[id=\"sc-kDDrLX\"]{content:\"iHIete,\"}/*!sc*/\n",
       ".eZvCNB{margin-bottom:32px;}/*!sc*/\n",
       "data-styled.g15[id=\"sc-iqcoie\"]{content:\"eZvCNB,\"}/*!sc*/\n",
       ".kcoQxs{display:inline-block;width:1px;height:12px;background:#ddd;margin:0 15px;}/*!sc*/\n",
       "data-styled.g16[id=\"sc-crXcEl\"]{content:\"kcoQxs,\"}/*!sc*/\n",
       ".ddhYAa{width:148px;border-bottom:1px solid #151515;font-weight:400;font-size:14px;-webkit-letter-spacing:0;-moz-letter-spacing:0;-ms-letter-spacing:0;letter-spacing:0;text-align:left;position:absolute;right:0;bottom:0;}/*!sc*/\n",
       ".ddhYAa span{display:block;position:relative;padding-left:0;padding-top:9px;-webkit-letter-spacing:0.08em;-moz-letter-spacing:0.08em;-ms-letter-spacing:0.08em;letter-spacing:0.08em;cursor:pointer;border:none;line-height:1;font-size:12px;padding:13px 0;}/*!sc*/\n",
       ".ddhYAa img{width:10px;height:7px;position:absolute;right:2px;top:50%;-webkit-transform:tanslateY(-50%);-ms-transform:tanslateY(-50%);transform:tanslateY(-50%);-webkit-transition:0.3s;transition:0.3s;}/*!sc*/\n",
       ".ddhYAa > div{position:absolute;top:38px;left:-1px;background:transparent;margin-left:-1px;width:calc(100% + 3px);padding:0;}/*!sc*/\n",
       ".ddhYAa > div ul{margin-bottom:3px;background:#f5f4f8;border:1px solid #151515;border-radius:2px;}/*!sc*/\n",
       ".ddhYAa > div ul li:hover{background-color:#151515;}/*!sc*/\n",
       ".ddhYAa > div ul a{font-size:14px;font-weight:500;padding-left:16px;padding:10px 8px;color:#151515;display:block;width:100%;-webkit-letter-spacing:-0.15px;-moz-letter-spacing:-0.15px;-ms-letter-spacing:-0.15px;letter-spacing:-0.15px;}/*!sc*/\n",
       ".ddhYAa > div ul a:hover{color:#ffffff;}/*!sc*/\n",
       "data-styled.g17[id=\"sc-evZas\"]{content:\"ddhYAa,\"}/*!sc*/\n",
       ".hgVXva{display:grid;grid-template-columns:1fr 1.3fr;-webkit-box-pack:end;-webkit-justify-content:flex-end;-ms-flex-pack:end;justify-content:flex-end;position:absolute;right:0;bottom:0;}/*!sc*/\n",
       "data-styled.g21[id=\"sc-fnykZs\"]{content:\"hgVXva,\"}/*!sc*/\n",
       ".dzxoAh{display:-webkit-box;display:-webkit-flex;display:-ms-flexbox;display:flex;-webkit-box-pack:end;-webkit-justify-content:flex-end;-ms-flex-pack:end;justify-content:flex-end;-webkit-align-items:center;-webkit-box-align:center;-ms-flex-align:center;align-items:center;}/*!sc*/\n",
       "data-styled.g22[id=\"sc-fEOsli\"]{content:\"dzxoAh,\"}/*!sc*/\n",
       ".bFXrpH{max-width:1200px;width:100%;margin:90px auto;padding-top:80px;}/*!sc*/\n",
       ".bFXrpH h1{margin-top:80px;font-size:30px;height:36px;-webkit-letter-spacing:-0.6px;-moz-letter-spacing:-0.6px;-ms-letter-spacing:-0.6px;letter-spacing:-0.6px;color:#061c31;font-weight:600;text-align:center;}/*!sc*/\n",
       ".bFXrpH h2{margin-top:7px;-webkit-letter-spacing:-0.2px;-moz-letter-spacing:-0.2px;-ms-letter-spacing:-0.2px;letter-spacing:-0.2px;color:#061c31;line-height:1.5;font-size:16px;height:24px;font-weight:400;text-align:center;margin-bottom:84px;}/*!sc*/\n",
       "data-styled.g126[id=\"sc-gzzPqb\"]{content:\"bFXrpH,\"}/*!sc*/\n",
       ".enjMKW{display:-webkit-box;display:-webkit-flex;display:-ms-flexbox;display:flex;}/*!sc*/\n",
       "data-styled.g127[id=\"sc-gkJlnC\"]{content:\"enjMKW,\"}/*!sc*/\n",
       ".cjHczu{height:24px;padding:0 15px;font-size:16px;font-weight:600;line-height:1.5;-webkit-letter-spacing:-0.2px;-moz-letter-spacing:-0.2px;-ms-letter-spacing:-0.2px;letter-spacing:-0.2px;cursor:pointer;}/*!sc*/\n",
       ".cjHczu{border-left:1px solid #e8e8e8;}/*!sc*/\n",
       "data-styled.g128[id=\"sc-fmrZth\"]{content:\"cjHczu,\"}/*!sc*/\n",
       ".cHYgqm{border-top:1px solid #4b4b4b;margin-top:20px;width:100%;border-collapse:collapse;}/*!sc*/\n",
       ".cHYgqm .tableItem:hover{background:#f9f9f9;}/*!sc*/\n",
       "data-styled.g129[id=\"sc-eXBvqI\"]{content:\"cHYgqm,\"}/*!sc*/\n",
       ".gYdAYw{font-size:15px;width:100%;color:#bcbcbc;border-bottom:1px solid #e8e8e8;}/*!sc*/\n",
       ".gYdAYw > th{width:100px;text-align:center;padding:10px 0;}/*!sc*/\n",
       ".gYdAYw > th:nth-child(1){position:relative;}/*!sc*/\n",
       ".gYdAYw > th:nth-child(1)::after{content:\"\";position:absolute;top:50%;right:0;width:1px;height:12px;background:#e8e8e8;-webkit-transform:translateY(-50%);-ms-transform:translateY(-50%);transform:translateY(-50%);}/*!sc*/\n",
       ".gYdAYw > th:nth-child(2){width:819px;padding-left:40px;text-align:left;}/*!sc*/\n",
       ".gYdAYw > th:nth-child(5){width:50px !important;padding-right:10px;}/*!sc*/\n",
       "data-styled.g130[id=\"sc-iFwKgL\"]{content:\"gYdAYw,\"}/*!sc*/\n",
       ".jGOOwk{background:transparent;border:none;-webkit-box-flex:1;-webkit-flex-grow:1;-ms-flex-positive:1;flex-grow:1;padding:0 12px;}/*!sc*/\n",
       ".jGOOwk::-webkit-input-placeholder{color:#bcbcbc;font-size:14px;}/*!sc*/\n",
       ".jGOOwk::-moz-placeholder{color:#bcbcbc;font-size:14px;}/*!sc*/\n",
       ".jGOOwk:-ms-input-placeholder{color:#bcbcbc;font-size:14px;}/*!sc*/\n",
       ".jGOOwk::placeholder{color:#bcbcbc;font-size:14px;}/*!sc*/\n",
       "data-styled.g132[id=\"sc-eVQfli\"]{content:\"jGOOwk,\"}/*!sc*/\n",
       ".gTkYeu{background:#fafafa;display:-webkit-box;display:-webkit-flex;display:-ms-flexbox;display:flex;-webkit-align-items:center;-webkit-box-align:center;-ms-flex-align:center;align-items:center;width:320px;height:40px;}/*!sc*/\n",
       ".gTkYeu .divider{width:1px;height:20px;background:#bcbcbc;}/*!sc*/\n",
       ".gTkYeu button{width:60px;}/*!sc*/\n",
       "data-styled.g133[id=\"sc-kTvvXX\"]{content:\"gTkYeu,\"}/*!sc*/\n",
       "</style></head><body><div data-reactroot=\"\" id=\"__next\"><div class=\"sc-bczRLJ dqPdIi box-headerLogo\"><div class=\"logo\" style=\"cursor:pointer;margin-right:54px\"><img height=\"40\" src=\"/images/logo/logo_full.png\" width=\"99\"/></div><div class=\"sc-gsnTZi cLtXbv top-header\" color=\"#180742\"><span><a class=\"bold\" style=\"color:\">SK일렉링크</a></span><span><a class=\"bold\" style=\"color:\">멤버십 소개</a></span><span><a class=\"bold\" style=\"color:\">충전소찾기</a></span><span><a class=\"bold\" style=\"color:\">충전기</a></span><span><a class=\"bold\" style=\"color:\">파트너십</a></span><span><a class=\"bold\" style=\"color:\">새소식</a></span><span><a class=\"bold\" style=\"color:#7b42ff\"><div class=\"sc-jSMfEi iCoUkK\"></div>고객센터</a></span></div><div class=\"sc-hKMtZM gEYcgN etc\" color=\"#180742\"><button>로그인</button><div class=\"sc-dkzDqf gjaOBb\"></div><button class=\"text\">회원가입</button></div><div class=\"sc-eCYdqJ fGrXbs\"><div class=\"d-2\"></div><div class=\"d-2\"><span><a>멤버십 제도 소개</a></span><span><a>충전 요금 정보</a></span><span><a>유료 멤버십 서비스</a></span><span><a>서비스 이용 방법</a></span></div><div class=\"d-2\"></div><div class=\"d-2\"><span><a>충전기 소개</a></span><span><a>홈충전기 소개</a></span><span><a>홈충전기 신청</a></span><span><a>신청 내역 조회</a></span></div><div class=\"d-2\"><span><a>SK일렉링크 파트너</a></span><span><a>파트너 제휴 신청</a></span><span><a>주요 성과</a></span><span><a>제휴 강점</a></span><span><a>제휴 혜택</a></span></div><div class=\"d-2\"><span><a>이벤트</a></span><span><a>공지사항</a></span></div><div class=\"d-2\"><span><a>FAQ</a></span><span><a>1:1 문의</a></span></div></div></div><div class=\"sc-gzzPqb bFXrpH\"><h1>FAQ</h1><h2>SK일렉링크<!-- -->의 궁금증을 해결하세요.</h2><div style=\"display:flex;justify-content:space-between;align-items:center\"><div class=\"sc-gkJlnC enjMKW\"><p class=\"sc-fmrZth cjHczu\" style=\"color:#7b42ff;border-left:none\">전체</p><p class=\"sc-fmrZth cjHczu\" style=\"color:;border-left:\">충전요금</p><p class=\"sc-fmrZth cjHczu\" style=\"color:;border-left:\">유료멤버십</p><p class=\"sc-fmrZth cjHczu\" style=\"color:;border-left:\">충전기 사용</p><p class=\"sc-fmrZth cjHczu\" style=\"color:;border-left:\">회원가입</p><p class=\"sc-fmrZth cjHczu\" style=\"color:;border-left:\">기타</p></div><div class=\"sc-kTvvXX gTkYeu\"><input class=\"sc-eVQfli jGOOwk\" name=\"query\" placeholder=\"제목 또는 내용 검색\" value=\"\"/><div class=\"divider\"></div><button><img height=\"20\" src=\"/images/icon/ic-search-purple-2x.png\" width=\"20\"/></button></div></div><table class=\"sc-eXBvqI cHYgqm\"><thead><tr class=\"sc-iFwKgL gYdAYw\"><th>구분</th><th>제목</th><th style=\"color:transparent\">-</th></tr></thead></table></div><div class=\"sc-gKXOVf fbpvcS section fp-auto-height\" style=\"min-height:486px;box-sizing:border-box\"><div class=\"sc-iBkjds ktLCLc\"><div style=\"position:absolute;top:50%;transform:translateY(-50%)\"><p class=\"sc-papXJ eDzkbI\">당신이 가는 길에 언제나, On Your Way, Always!</p><div class=\"sc-jqUVSM cYabTh\"><img alt=\"\" src=\"/images/txt/text_1.png\" style=\"width:330px\"/></div><div><a href=\"https://market.android.com/details?id=kr.co.sscharger\" target=\"_blank\"><img alt=\"Google Play Store\" src=\"/images/btn/btn_google.png\" style=\"width:213px;margin-right:11px\"/></a><a href=\"http://itunes.apple.com/kr/app/quik/id1603607263\" target=\"_blank\"><img alt=\"Apple App Store\" src=\"/images/btn/btn_apple.png\" style=\"width:213px\"/></a></div></div><div class=\"sc-ftvSup cPaZov\"><img alt=\"\" src=\"/images/bg/bg_main_sec7_sk.png\"/></div></div></div><div class=\"section fp_item fp-auto-height\" style=\"width:100% !important\"><div class=\"sc-kDDrLX iHIete\"><div class=\"box-gapFooter\"><div class=\"sc-iqcoie eZvCNB\"><img alt=\"SKelectlink\" src=\"/images/logo/logo_black.png\"/></div><div><p class=\"bold\" style=\"font-size:15px;color:#151515\">SK일렉링크<!-- --> 주식회사</p></div><div style=\"margin-bottom:30px\"><div style=\"margin-bottom:12px\">(05510) 서울특별시 송파구 올림픽로 295 / 삼성생명잠실빌딩 17층<div class=\"sc-crXcEl kcoQxs\"></div><span>사업자등록번호</span>378-86-02680</div><span>대표이사</span>조형기<div class=\"sc-crXcEl kcoQxs\"></div><span>고객센터</span>1566-1704<span style=\"color:red\"> (야간에도, 공휴일에도. 365일 24시간 상담 가능한 번호)</span></div><div style=\"display:flex;align-items:center\"><a href=\"https://ethics.sk.co.kr/\" style=\"display:flex;align-items:center;font-family:Pretendard-Medium\"><span style=\"box-sizing:border-box;display:inline-block;overflow:hidden;width:initial;height:initial;background:none;opacity:1;border:0;margin:0;padding:0;position:relative;max-width:100%\"><span style=\"box-sizing:border-box;display:block;width:initial;height:initial;background:none;opacity:1;border:0;margin:0;padding:0;max-width:100%\"><img alt=\"\" aria-hidden=\"true\" src=\"data:image/svg+xml,%3csvg%20xmlns=%27http://www.w3.org/2000/svg%27%20version=%271.1%27%20width=%2718%27%20height=%2718%27/%3e\" style=\"display:block;max-width:100%;width:initial;height:initial;background:none;opacity:1;border:0;margin:0;padding:0\"/></span><img alt=\"Mountains\" data-nimg=\"intrinsic\" decoding=\"async\" src=\"data:image/gif;base64,R0lGODlhAQABAIAAAAAAAP///yH5BAEAAAAALAAAAAABAAEAAAIBRAA7\" style=\"position:absolute;top:0;left:0;bottom:0;right:0;box-sizing:border-box;padding:0;border:none;margin:auto;display:block;width:0;height:0;min-width:100%;max-width:100%;min-height:100%;max-height:100%;object-fit:cover\"/><noscript><img alt=\"Mountains\" data-nimg=\"intrinsic\" decoding=\"async\" loading=\"lazy\" src=\"/_next/image?url=%2Fimages%2Fimg%2Ficn_compliance.png&amp;w=48&amp;q=75\" srcset=\"/_next/image?url=%2Fimages%2Fimg%2Ficn_compliance.png&amp;w=32&amp;q=75 1x, /_next/image?url=%2Fimages%2Fimg%2Ficn_compliance.png&amp;w=48&amp;q=75 2x\" style=\"position:absolute;top:0;left:0;bottom:0;right:0;box-sizing:border-box;padding:0;border:none;margin:auto;display:block;width:0;height:0;min-width:100%;max-width:100%;min-height:100%;max-height:100%;object-fit:cover\"/></noscript></span>SK 윤리경영<span style=\"color:#E51937;margin-left:3px\">제보</span></a></div><div><p style=\"color:#4b4b4b;font-weight:300\">@SK Electlink company all right reserved.</p></div><div class=\"sc-fnykZs hgVXva\"><div class=\"sc-fEOsli dzxoAh\"><a href=\"https://blog.naver.com/skelectlink_ev\" style=\"display:flex;align-items:center;font-family:Pretendard-Medium\" target=\"_blank\" title=\"SKEL 네이버 블로그\"><span style=\"box-sizing:border-box;display:inline-block;overflow:hidden;width:initial;height:initial;background:none;opacity:1;border:0;margin:0;padding:0;position:relative;max-width:100%\"><span style=\"box-sizing:border-box;display:block;width:initial;height:initial;background:none;opacity:1;border:0;margin:0;padding:0;max-width:100%\"><img alt=\"\" aria-hidden=\"true\" src=\"data:image/svg+xml,%3csvg%20xmlns=%27http://www.w3.org/2000/svg%27%20version=%271.1%27%20width=%2740%27%20height=%2740%27/%3e\" style=\"display:block;max-width:100%;width:initial;height:initial;background:none;opacity:1;border:0;margin:0;padding:0\"/></span><img alt=\"Mountains\" data-nimg=\"intrinsic\" decoding=\"async\" src=\"data:image/gif;base64,R0lGODlhAQABAIAAAAAAAP///yH5BAEAAAAALAAAAAABAAEAAAIBRAA7\" style=\"position:absolute;top:0;left:0;bottom:0;right:0;box-sizing:border-box;padding:0;border:none;margin:auto;display:block;width:0;height:0;min-width:100%;max-width:100%;min-height:100%;max-height:100%;object-fit:cover\"/><noscript><img alt=\"Mountains\" data-nimg=\"intrinsic\" decoding=\"async\" loading=\"lazy\" src=\"/_next/image?url=%2Fimages%2Fimg%2Ficn_skel_naverBlog.png&amp;w=96&amp;q=75\" srcset=\"/_next/image?url=%2Fimages%2Fimg%2Ficn_skel_naverBlog.png&amp;w=48&amp;q=75 1x, /_next/image?url=%2Fimages%2Fimg%2Ficn_skel_naverBlog.png&amp;w=96&amp;q=75 2x\" style=\"position:absolute;top:0;left:0;bottom:0;right:0;box-sizing:border-box;padding:0;border:none;margin:auto;display:block;width:0;height:0;min-width:100%;max-width:100%;min-height:100%;max-height:100%;object-fit:cover\"/></noscript></span></a><a href=\"https://www.instagram.com/skelectlink/\" style=\"display:flex;justify-content:flex-end\" target=\"_blank\" title=\"SKEL 인스타그램\"><span style=\"box-sizing:border-box;display:inline-block;overflow:hidden;width:initial;height:initial;background:none;opacity:1;border:0;margin:0;padding:0;position:relative;max-width:100%\"><span style=\"box-sizing:border-box;display:block;width:initial;height:initial;background:none;opacity:1;border:0;margin:0;padding:0;max-width:100%\"><img alt=\"\" aria-hidden=\"true\" src=\"data:image/svg+xml,%3csvg%20xmlns=%27http://www.w3.org/2000/svg%27%20version=%271.1%27%20width=%2740%27%20height=%2740%27/%3e\" style=\"display:block;max-width:100%;width:initial;height:initial;background:none;opacity:1;border:0;margin:0;padding:0\"/></span><img alt=\"Mountains\" data-nimg=\"intrinsic\" decoding=\"async\" src=\"data:image/gif;base64,R0lGODlhAQABAIAAAAAAAP///yH5BAEAAAAALAAAAAABAAEAAAIBRAA7\" style=\"position:absolute;top:0;left:0;bottom:0;right:0;box-sizing:border-box;padding:0;border:none;margin:auto;display:block;width:0;height:0;min-width:100%;max-width:100%;min-height:100%;max-height:100%;object-fit:cover\"/><noscript><img alt=\"Mountains\" data-nimg=\"intrinsic\" decoding=\"async\" loading=\"lazy\" src=\"/_next/image?url=%2Fimages%2Fimg%2Ficn_skel_instagram.png&amp;w=96&amp;q=75\" srcset=\"/_next/image?url=%2Fimages%2Fimg%2Ficn_skel_instagram.png&amp;w=48&amp;q=75 1x, /_next/image?url=%2Fimages%2Fimg%2Ficn_skel_instagram.png&amp;w=96&amp;q=75 2x\" style=\"position:absolute;top:0;left:0;bottom:0;right:0;box-sizing:border-box;padding:0;border:none;margin:auto;display:block;width:0;height:0;min-width:100%;max-width:100%;min-height:100%;max-height:100%;object-fit:cover\"/></noscript></span></a></div><div class=\"sc-fEOsli dzxoAh\"><div class=\"sc-evZas ddhYAa\"><span>Family Site</span><img alt=\"\" src=\"../images/icon/ic_family.svg\" style=\"transform:rotate(0deg)\"/><div style=\"display:none\"><ul><li><a href=\"https://www.sknetworks.co.kr/\" target=\"_blank\">SK네트웍스</a></li></ul></div></div></div></div></div></div></div><div class=\"Toastify\"></div></div><script id=\"__NEXT_DATA__\" type=\"application/json\">{\"props\":{\"pageProps\":{\"pathname\":\"/support\"},\"initialState\":{\"common\":{\"state\":null,\"code\":null,\"message\":null,\"latitude\":null,\"longitude\":null,\"isLoading\":false,\"isLoadingChargerList\":false,\"hasMore\":true,\"alertDialog\":false,\"alertDialogType\":null,\"alertDialogDataType\":null,\"alertDialogTitle\":null,\"alertDialogMessage\":null,\"alertDialogParams\":null,\"isOpenKiaPoint\":false,\"isOpenHyundaiPoint\":false,\"applyDialogParam\":null,\"situationList\":[],\"termsList\":[],\"privateTerms\":{},\"popupList\":[]},\"charger\":{\"chargerList\":[],\"clearCircle\":[],\"chargerListMeta\":{\"currentPage\":0,\"perPage\":0,\"totalCnt\":0,\"totalPage\":0},\"searchQueryList\":[],\"searchQueryListMeta\":{\"currentPage\":0,\"perPage\":0,\"totalCnt\":0,\"totalPage\":0},\"partnerApplication\":false,\"partnerImg\":[],\"chargerApply\":{},\"chargerApplyDialog\":false,\"markerList\":[],\"chargerFilter\":{\"addition_service\":[],\"charger_point_operation\":[],\"charger_speed\":[],\"charger_type\":[],\"reservation_support\":[]},\"selectedFilterInfo\":null,\"chargerApplyAddMessage\":\"\",\"setClickPosition\":{\"lat\":0,\"lng\":0},\"searchList\":[],\"chargerInfo\":{\"basic\":{\"CALLCENTER\":\"\",\"CHARGER_SPEED\":\"\",\"GPS_LATITUDE\":\"\",\"GPS_LONGITUDE\":\"\",\"IMAGE_URI\":\"\",\"LUCKYPASS_AT\":\"\",\"MEMBER_BASIC_UNIT_PRICE\":\"\",\"MEMBER_EVENT_UNIT_PRICE\":\"\",\"NOTE\":\"\",\"NO_MEMBER_BASIC_UNIT_PRICE\":\"\",\"OPERATION_CORP\":\"\",\"OPERATION_ID\":\"\",\"OPERATION_TIME\":\"\",\"ROAD_NAME_ADDRESS\":\"\",\"ROAD_NAME_ADDRESS_DETAIL\":\"\",\"BENEFIT_AMOUNT\":\"\",\"CANCEL_AMOUNT\":\"\",\"TOTAL_PAYMENT_AMOUNT\":\"\",\"PAYMENT_AMOUNT\":\"\",\"ZIP\":\"\"},\"confusion\":{\"CHARGER_STATION_ID\":\"\",\"CHARGER_STATION_NAME\":\"\",\"OPERATION_ID\":\"\",\"OPERATION_NAME\":\"\",\"TI_00\":0,\"TI_01\":0,\"TI_02\":0,\"TI_03\":0,\"TI_04\":0,\"TI_05\":0,\"TI_06\":0,\"TI_07\":0,\"TI_08\":0,\"TI_09\":0,\"TI_10\":0,\"TI_11\":0,\"TI_12\":0,\"TI_13\":0,\"TI_14\":0,\"TI_15\":0,\"TI_16\":0,\"TI_17\":0,\"TI_18\":0,\"TI_19\":0,\"TI_20\":0,\"TI_21\":0,\"TI_22\":0,\"TI_23\":0},\"cost\":[{\"chargerType\":\"\",\"cost\":\"\",\"userType\":\"\"}],\"info\":{\"CHARGER_STATION_ID\":\"\",\"CHARGER_STATION_NAME\":\"\",\"DISTANCE\":\"\",\"IMAGE_URI\":\"\",\"OPERATION_ID\":\"\",\"OPERATION_NAME\":\"\",\"STATUS\":\"\",\"STATUS_COLOR\":\"\"},\"status\":[{\"CHARGER_ID\":\"\",\"CHARGER_SPEED\":\"\",\"CHARGER_SPEED_DISPLAY\":\"\",\"CHARGER_TYPE\":[],\"CHARGER_TYPE_CODE\":\"\",\"ELAPSED_TIME\":\"\",\"OPERATION_ID\":\"\",\"ROAD_NAME_ADDRESS_DETAIL\":\"\",\"STATUS_CODE\":\"\"}]},\"kiaMembersPoint\":{},\"hyundaiMembersPoint\":{},\"nicePayAmountInfo\":[],\"requestPayment\":{},\"selectedPaymentApply\":{},\"searchHistoryListHasMore\":false,\"chargerSearchList\":[],\"chargerSearchListPage\":1,\"chargerSearchListHasMore\":true,\"isChargerApplyModal\":false,\"isPartnerApplyModal\":false,\"cmmnCode\":[],\"chargerColorCmmnCode\":[],\"vehicleManufacturerNameCode\":[],\"vehicleModelCodeInfo\":[]},\"article\":{\"eventList\":[],\"eventListMeta\":{\"currentPage\":0,\"perPage\":0,\"totalCnt\":0,\"totalPage\":0},\"eventDetail\":null,\"noticeList\":[],\"noticeListMeta\":{\"currentPage\":0,\"perPage\":0,\"totalCnt\":0,\"totalPage\":0},\"noticeDetail\":null,\"faqList\":[],\"faqListMeta\":{\"currentPage\":0,\"perPage\":0,\"totalCnt\":0,\"totalPage\":0},\"membershipGeneralUnitInfo\":[],\"membershipRoamingUnitInfo\":[],\"membershipFreewayUnitInfo\":[],\"productList\":[]},\"customer\":{\"state\":null,\"message\":null,\"qnaList\":[],\"qnaListMeta\":{\"currentPage\":0,\"perPage\":0,\"totalCnt\":0,\"totalPage\":0},\"qnaDetail\":null},\"map\":{\"chargerList\":[],\"chargerListPage\":1,\"chargerListHasMore\":true,\"searchList\":[],\"searchListPage\":1,\"searchListHasMore\":true,\"markerList\":[],\"searchHistoryList\":[],\"myLocation\":{\"_lat\":0,\"_lng\":0}}}},\"page\":\"/support\",\"query\":{},\"buildId\":\"oiMU01jbC8H82do_NE5lx\",\"isFallback\":false,\"customServer\":true,\"appGip\":true,\"scriptLoader\":[]}</script></body></html>"
      ]
     },
     "execution_count": 3,
     "metadata": {},
     "output_type": "execute_result"
    }
   ],
   "source": [
    "# BeautifulSoup을 활용하여 데이터 파싱\n",
    "soup = BeautifulSoup(response.content, \"lxml\")\n",
    "soup"
   ]
  },
  {
   "cell_type": "code",
   "execution_count": 48,
   "id": "25eff28b-0668-439a-b12e-70de0750946a",
   "metadata": {
    "scrolled": true
   },
   "outputs": [
    {
     "data": {
      "text/plain": [
       "<html><head><meta content=\"width=device-width\" name=\"viewport\"/><meta charset=\"utf-8\"/><title>FAQ</title><meta content=\"index,follow\" name=\"robots\"/><meta content=\"index,follow\" name=\"googlebot\"/><meta content=\"SK일렉링크 | On Your Way, Always!\" name=\"description\"/><meta content=\"SK일렉링크 | On Your Way, Always!\" property=\"og:title\"/><meta content=\"SK일렉링크 | On Your Way, Always!\" property=\"og:description\"/><meta content=\"https://sscharger.co.kr\" property=\"og:url\"/><meta content=\"website\" property=\"og:type\"/><meta content=\"https://prod-image.sscharger.io/ssc/images/meta/kakao_skel.png\" property=\"og:image\"/><meta content=\"ko_KR\" property=\"og:locale\"/><meta content=\"SK일렉링크\" property=\"og:site_name\"/><meta content=\"SK일렉링크, skelectlink, SKelectlink, SK 일렉링크, SK electlink, sk electlink\" name=\"keywords\"/><meta content=\"14\" name=\"next-head-count\"/><meta charset=\"utf-8\"/><title>SK일렉링크 | On Your Way, Always!</title><link href=\"/skel_favicon.ico\" rel=\"shortcut icon\" type=\"image/x-icon\"/><link href=\"/skel_favicon.ico\" rel=\"icon\" type=\"image/x-icon\"/><link href=\"/css/jquery.fullpage.css\" rel=\"stylesheet\"/><link href=\"/favicon/skel_favicon.ico\" rel=\"apple-touch-icon\" sizes=\"76x76\"/><link href=\"/favicon/skel_favicon.ico\" rel=\"icon\" sizes=\"32x32\" type=\"image/png\"/><link href=\"/favicon/skel_favicon.ico\" rel=\"icon\" sizes=\"16x16\" type=\"image/png\"/><link href=\"/favicon/site.webmanifest\" rel=\"manifest\"/><link color=\"#7b42ff\" href=\"/favicon/safari-pinned-tab.svg\" rel=\"mask-icon\"/><link href=\"/favicon/skel_favicon.ico\" rel=\"shortcut icon\"/><meta content=\"d166a4bdcc3dca31981d6f5ec9024215854a2f9b\" name=\"naver-site-verification\"/><meta content=\"#7b42ff\" name=\"msapplication-TileColor\"/><meta content=\"/favicon/browserconfig.xml\" name=\"msapplication-config\"/><meta content=\"#ffffff\" name=\"theme-color\"/><script async=\"\" src=\"https://www.google-analytics.com/analytics.js\" type=\"text/javascript\"></script><script async=\"\" src=\"https://www.googletagmanager.com/gtag/js?id=G-8S22CBW4Z5&amp;l=dataLayer&amp;cx=c\" type=\"text/javascript\"></script><script async=\"\" src=\"https://www.googletagmanager.com/gtag/js?id=UA-262205991-1&amp;l=dataLayer&amp;cx=c\" type=\"text/javascript\"></script><script src=\"https://openapi.map.naver.com/openapi/v3/maps.js?ncpClientId=dvoxcirurm\" type=\"text/javascript\"></script><link as=\"style\" href=\"/_next/static/css/1b60cba0b7b9c0d9.css\" rel=\"preload\"/><link data-n-g=\"\" href=\"/_next/static/css/1b60cba0b7b9c0d9.css\" rel=\"stylesheet\"/><noscript data-n-css=\"\"></noscript><script defer=\"\" nomodule=\"\" src=\"/_next/static/chunks/polyfills-5cd94c89d3acac5f.js\"></script><script defer=\"\" src=\"/_next/static/chunks/webpack-6dba46f61de3807d.js\"></script><script defer=\"\" src=\"/_next/static/chunks/framework-5a46ced06405f0e2.js\"></script><script defer=\"\" src=\"/_next/static/chunks/main-b0103c7a63722ca2.js\"></script><script defer=\"\" src=\"/_next/static/chunks/pages/_app-259e792effdd3f12.js\"></script><script defer=\"\" src=\"/_next/static/chunks/5675-fb8d91a4b61537be.js\"></script><script defer=\"\" src=\"/_next/static/chunks/722-79861b547f1c8dc1.js\"></script><script defer=\"\" src=\"/_next/static/chunks/8447-873901874784dc64.js\"></script><script defer=\"\" src=\"/_next/static/chunks/2926-0ac3eb80f7097025.js\"></script><script defer=\"\" src=\"/_next/static/chunks/pages/support-44195d5e45075190.js\"></script><script defer=\"\" src=\"/_next/static/oiMU01jbC8H82do_NE5lx/_buildManifest.js\"></script><script defer=\"\" src=\"/_next/static/oiMU01jbC8H82do_NE5lx/_ssgManifest.js\"></script><script defer=\"\" src=\"/_next/static/oiMU01jbC8H82do_NE5lx/_middlewareManifest.js\"></script><style data-styled=\"active\" data-styled-version=\"5.3.5\"></style><link as=\"script\" href=\"/_next/static/chunks/pages/index-9febe1af99e189c3.js\" rel=\"prefetch\"/></head><body><div data-reactroot=\"\" id=\"__next\"><div class=\"sc-breuTD ehmOCp box-headerLogo\"><div class=\"logo\" style=\"cursor: pointer; margin-right: 54px;\"><img height=\"40\" src=\"/images/logo/logo_full.png\" width=\"99\"/></div><div class=\"sc-ksZaOG jdDpJd top-header\" color=\"#180742\"><span><a class=\"bold\">SK일렉링크</a></span><span><a class=\"bold\">멤버십 소개</a></span><span><a class=\"bold\">충전소찾기</a></span><span><a class=\"bold\">충전기</a></span><span><a class=\"bold\">파트너십</a></span><span><a class=\"bold\">새소식</a></span><span><a class=\"bold\" style=\"color: rgb(123, 66, 255);\"><div class=\"sc-bjUoiL gRyiwT\"></div>고객센터</a></span></div><div class=\"sc-fnykZs jZsiEP etc\" color=\"#180742\"><button>로그인</button><div class=\"sc-hAZoDl jLbJJd\"></div><button class=\"text\">회원가입</button></div><div class=\"sc-fEOsli QIYhG\"><div class=\"d-2\"></div><div class=\"d-2\"><span><a>멤버십 제도 소개</a></span><span><a>충전 요금 정보</a></span><span><a>유료 멤버십 서비스</a></span><span><a>서비스 이용 방법</a></span></div><div class=\"d-2\"></div><div class=\"d-2\"><span><a>충전기 소개</a></span><span><a>홈충전기 소개</a></span><span><a>홈충전기 신청</a></span><span><a>신청 내역 조회</a></span></div><div class=\"d-2\"><span><a>SK일렉링크 파트너</a></span><span><a>파트너 제휴 신청</a></span><span><a>주요 성과</a></span><span><a>제휴 강점</a></span><span><a>제휴 혜택</a></span></div><div class=\"d-2\"><span><a>이벤트</a></span><span><a>공지사항</a></span></div><div class=\"d-2\"><span><a>FAQ</a></span><span><a>1:1 문의</a></span></div></div></div><div class=\"sc-ivTmOn gfKKzk\"><h1>FAQ</h1><h2>SK일렉링크의 궁금증을 해결하세요.</h2><div style=\"display: flex; justify-content: space-between; align-items: center;\"><div class=\"sc-cxabCf jWBdQI\"><p class=\"sc-llJcti gQHEIB\" style=\"color: rgb(123, 66, 255); border-left: none;\">전체</p><p class=\"sc-llJcti gQHEIB\">충전요금</p><p class=\"sc-llJcti gQHEIB\">유료멤버십</p><p class=\"sc-llJcti gQHEIB\">충전기 사용</p><p class=\"sc-llJcti gQHEIB\">회원가입</p><p class=\"sc-llJcti gQHEIB\">기타</p></div><div class=\"sc-kLLXSd gnjixZ\"><input class=\"sc-bZkfAO yMqQW\" name=\"query\" placeholder=\"제목 또는 내용 검색\" value=\"\"/><div class=\"divider\"></div><button><img height=\"20\" src=\"/images/icon/ic-search-purple-2x.png\" width=\"20\"/></button></div></div><table class=\"sc-iIPllB PGnHl\"><thead><tr class=\"sc-gicCDI gyUfef\"><th>구분</th><th>제목</th><th style=\"color: transparent;\">-</th></tr></thead><tbody><tr class=\"sc-ezWOiH eenqgC tableItem\"><td class=\"bold\">요금</td><td>기아멤버스 포인트로 충전요금을 결제하려면 어떻게 해야 하나요?</td><td><img alt=\"\" height=\"30\" src=\"/images/icon/ic-arrow-dw-2x.png\" style=\"transform: rotate(0deg); transition: all 0.5s ease 0s;\" width=\"30\"/></td></tr></tbody><tbody><tr class=\"sc-ezWOiH eenqgC tableItem\"><td class=\"bold\">요금</td><td>블루멤버스 포인트로 충전요금을 결제하려면 어떻게 해야 하나요?</td><td><img alt=\"\" height=\"30\" src=\"/images/icon/ic-arrow-dw-2x.png\" style=\"transform: rotate(0deg); transition: all 0.5s ease 0s;\" width=\"30\"/></td></tr></tbody><tbody><tr class=\"sc-ezWOiH eenqgC tableItem\"><td class=\"bold\">기타</td><td>구매한 “SK 일렉링크 크래딧”도 있고, 무상으로 제공받은 “SK 일렉링크 크래딧”도 있어요. 마일리지랑 동시 사용이 가능한지 알려주세요.</td><td><img alt=\"\" height=\"30\" src=\"/images/icon/ic-arrow-dw-2x.png\" style=\"transform: rotate(0deg); transition: all 0.5s ease 0s;\" width=\"30\"/></td></tr></tbody><tbody><tr class=\"sc-ezWOiH eenqgC tableItem\"><td class=\"bold\">기타</td><td>“SK 일렉링크 크래딧”과 “마일리지”는 동시 사용이 가능한가요?</td><td><img alt=\"\" height=\"30\" src=\"/images/icon/ic-arrow-dw-2x.png\" style=\"transform: rotate(0deg); transition: all 0.5s ease 0s;\" width=\"30\"/></td></tr></tbody><tbody><tr class=\"sc-ezWOiH eenqgC tableItem\"><td class=\"bold\">기타</td><td>“SK 일렉링크 크래딧”과 “마일리지”는 어떻게 다른가요?</td><td><img alt=\"\" height=\"30\" src=\"/images/icon/ic-arrow-dw-2x.png\" style=\"transform: rotate(0deg); transition: all 0.5s ease 0s;\" width=\"30\"/></td></tr></tbody><tbody><tr class=\"sc-ezWOiH eenqgC tableItem\"><td class=\"bold\">기타</td><td>“SK 일렉링크 크래딧”의 사용 유효 기간이 있나요?</td><td><img alt=\"\" height=\"30\" src=\"/images/icon/ic-arrow-dw-2x.png\" style=\"transform: rotate(0deg); transition: all 0.5s ease 0s;\" width=\"30\"/></td></tr></tbody><tbody><tr class=\"sc-ezWOiH eenqgC tableItem\"><td class=\"bold\">기타</td><td>SK 일렉링크 앱카드를 사용 중인데 실물카드를 발급받고 싶어요.</td><td><img alt=\"\" height=\"30\" src=\"/images/icon/ic-arrow-dw-2x.png\" style=\"transform: rotate(0deg); transition: all 0.5s ease 0s;\" width=\"30\"/></td></tr></tbody><tbody><tr class=\"sc-ezWOiH eenqgC tableItem\"><td class=\"bold\">요금</td><td>[럭키패스] 상시가입되나요? 매월 1일 정기결제라고 되어있는데, 월 중순에 가입할 수도 있나요?</td><td><img alt=\"\" height=\"30\" src=\"/images/icon/ic-arrow-dw-2x.png\" style=\"transform: rotate(0deg); transition: all 0.5s ease 0s;\" width=\"30\"/></td></tr></tbody><tbody><tr class=\"sc-ezWOiH eenqgC tableItem\"><td class=\"bold\">요금</td><td>[럭키패스] 매월 1일 정기결제라고 되어있는데, 구독시점에 따라 매월 구독료 결제 시기가 다른가요?</td><td><img alt=\"\" height=\"30\" src=\"/images/icon/ic-arrow-dw-2x.png\" style=\"transform: rotate(0deg); transition: all 0.5s ease 0s;\" width=\"30\"/></td></tr></tbody><tbody><tr class=\"sc-ezWOiH eenqgC tableItem\"><td class=\"bold\">요금</td><td>[럭키패스] 가입상품 이용량 초과시, 추가로 제공되는 혜택이 있는지, 정상충전요금의 3% 적립만 되는 건지 궁금해요.</td><td><img alt=\"\" height=\"30\" src=\"/images/icon/ic-arrow-dw-2x.png\" style=\"transform: rotate(0deg); transition: all 0.5s ease 0s;\" width=\"30\"/></td></tr></tbody></table><div class=\"sc-bczRLJ wXuSo\"><ul class=\"pagination\"><li class=\"disabled\"><a aria-label=\"Go to first page\" class=\"\" href=\"#\"></a></li><li class=\"disabled\"><a aria-label=\"Go to previous page\" class=\"\" href=\"#\"><img alt=\"\" height=\"12\" src=\"/images/icon/map-icons/ic-check.svg\" style=\"transform: rotate(90deg);\" width=\"6\"/></a></li><li class=\"active\"><a aria-label=\"Go to page number 1\" class=\"undefined\" href=\"#\">1</a></li><li class=\"disabled\"><a aria-label=\"Go to next page\" class=\"\" href=\"#\"><img alt=\"\" height=\"12\" src=\"/images/icon/map-icons/ic-check.svg\" style=\"transform: rotate(-90deg);\" width=\"6\"/></a></li><li class=\"disabled\"><a aria-label=\"Go to last page\" class=\"\" href=\"#\"></a></li></ul></div></div><div class=\"sc-gsnTZi dufRZM section fp-auto-height\" style=\"min-height: 486px; box-sizing: border-box;\"><div class=\"sc-dkzDqf llmkCT\"><div style=\"position: absolute; top: 50%; transform: translateY(-50%);\"><p class=\"sc-eCYdqJ jEocgn\">당신이 가는 길에 언제나, On Your Way, Always!</p><div class=\"sc-jSMfEi iKDhNN\"><img alt=\"\" src=\"/images/txt/text_1.png\" style=\"width: 330px;\"/></div><div><a href=\"https://market.android.com/details?id=kr.co.sscharger\" target=\"_blank\"><img alt=\"Google Play Store\" src=\"/images/btn/btn_google.png\" style=\"width: 213px; margin-right: 11px;\"/></a><a href=\"http://itunes.apple.com/kr/app/quik/id1603607263\" target=\"_blank\"><img alt=\"Apple App Store\" src=\"/images/btn/btn_apple.png\" style=\"width: 213px;\"/></a></div></div><div class=\"sc-hKMtZM kCHFec\"><img alt=\"\" src=\"/images/bg/bg_main_sec7_sk.png\"/></div></div></div><div class=\"section fp_item fp-auto-height\"><div class=\"sc-gKXOVf givSzs\"><div class=\"box-gapFooter\"><div class=\"sc-iBkjds egKOTE\"><img alt=\"SKelectlink\" src=\"/images/logo/logo_black.png\"/></div><div><p class=\"bold\" style=\"font-size: 15px; color: rgb(21, 21, 21);\">SK일렉링크 주식회사</p></div><div style=\"margin-bottom: 30px;\"><div style=\"margin-bottom: 12px;\">(05510) 서울특별시 송파구 올림픽로 295 / 삼성생명잠실빌딩 17층<div class=\"sc-ftvSup bAlsUx\"></div><span>사업자등록번호</span>378-86-02680</div><span>대표이사</span>조형기<div class=\"sc-ftvSup bAlsUx\"></div><span>고객센터</span>1566-1704<span style=\"color: red;\"> (야간에도, 공휴일에도. 365일 24시간 상담 가능한 번호)</span></div><div style=\"display: flex; align-items: center;\"><a href=\"#\" style=\"font-family: Pretendard-Medium;\">개인정보취급방침</a><a href=\"#\" style=\"font-family: Pretendard-Medium;\">서비스이용약관</a><a href=\"#\" style=\"font-family: Pretendard-Medium;\">위치기반 서비스 이용약관</a><a href=\"#\" style=\"font-family: Pretendard-Medium;\">충전로밍 서비스 이용약관</a><a href=\"https://ethics.sk.co.kr/\" style=\"display: flex; align-items: center; font-family: Pretendard-Medium;\"><span style=\"box-sizing: border-box; display: inline-block; overflow: hidden; width: initial; height: initial; background: none; opacity: 1; border: 0px; margin: 0px; padding: 0px; position: relative; max-width: 100%;\"><span style=\"box-sizing: border-box; display: block; width: initial; height: initial; background: none; opacity: 1; border: 0px; margin: 0px; padding: 0px; max-width: 100%;\"><img alt=\"\" aria-hidden=\"true\" src=\"data:image/svg+xml,%3csvg%20xmlns=%27http://www.w3.org/2000/svg%27%20version=%271.1%27%20width=%2718%27%20height=%2718%27/%3e\" style=\"display: block; max-width: 100%; width: initial; height: initial; background: none; opacity: 1; border: 0px; margin: 0px; padding: 0px;\"/></span><img alt=\"Mountains\" data-nimg=\"intrinsic\" decoding=\"async\" src=\"data:image/gif;base64,R0lGODlhAQABAIAAAAAAAP///yH5BAEAAAAALAAAAAABAAEAAAIBRAA7\" style=\"position: absolute; inset: 0px; box-sizing: border-box; padding: 0px; border: none; margin: auto; display: block; width: 0px; height: 0px; min-width: 100%; max-width: 100%; min-height: 100%; max-height: 100%; object-fit: cover;\"/><noscript></noscript></span>SK 윤리경영<span style=\"color: rgb(229, 25, 55); margin-left: 3px;\">제보</span></a></div><div><p style=\"color: rgb(75, 75, 75); font-weight: 300;\">@SK Electlink company all right reserved.</p></div><div class=\"sc-crXcEl dGLYPq\"><div class=\"sc-evZas fUmPFY\"><a href=\"https://blog.naver.com/skelectlink_ev\" style=\"display: flex; align-items: center; font-family: Pretendard-Medium;\" target=\"_blank\" title=\"SKEL 네이버 블로그\"><span style=\"box-sizing: border-box; display: inline-block; overflow: hidden; width: initial; height: initial; background: none; opacity: 1; border: 0px; margin: 0px; padding: 0px; position: relative; max-width: 100%;\"><span style=\"box-sizing: border-box; display: block; width: initial; height: initial; background: none; opacity: 1; border: 0px; margin: 0px; padding: 0px; max-width: 100%;\"><img alt=\"\" aria-hidden=\"true\" src=\"data:image/svg+xml,%3csvg%20xmlns=%27http://www.w3.org/2000/svg%27%20version=%271.1%27%20width=%2740%27%20height=%2740%27/%3e\" style=\"display: block; max-width: 100%; width: initial; height: initial; background: none; opacity: 1; border: 0px; margin: 0px; padding: 0px;\"/></span><img alt=\"Mountains\" data-nimg=\"intrinsic\" decoding=\"async\" src=\"data:image/gif;base64,R0lGODlhAQABAIAAAAAAAP///yH5BAEAAAAALAAAAAABAAEAAAIBRAA7\" style=\"position: absolute; inset: 0px; box-sizing: border-box; padding: 0px; border: none; margin: auto; display: block; width: 0px; height: 0px; min-width: 100%; max-width: 100%; min-height: 100%; max-height: 100%; object-fit: cover;\"/><noscript></noscript></span></a><a href=\"https://www.instagram.com/skelectlink/\" style=\"display: flex; justify-content: flex-end;\" target=\"_blank\" title=\"SKEL 인스타그램\"><span style=\"box-sizing: border-box; display: inline-block; overflow: hidden; width: initial; height: initial; background: none; opacity: 1; border: 0px; margin: 0px; padding: 0px; position: relative; max-width: 100%;\"><span style=\"box-sizing: border-box; display: block; width: initial; height: initial; background: none; opacity: 1; border: 0px; margin: 0px; padding: 0px; max-width: 100%;\"><img alt=\"\" aria-hidden=\"true\" src=\"data:image/svg+xml,%3csvg%20xmlns=%27http://www.w3.org/2000/svg%27%20version=%271.1%27%20width=%2740%27%20height=%2740%27/%3e\" style=\"display: block; max-width: 100%; width: initial; height: initial; background: none; opacity: 1; border: 0px; margin: 0px; padding: 0px;\"/></span><img alt=\"Mountains\" data-nimg=\"intrinsic\" decoding=\"async\" src=\"data:image/gif;base64,R0lGODlhAQABAIAAAAAAAP///yH5BAEAAAAALAAAAAABAAEAAAIBRAA7\" style=\"position: absolute; inset: 0px; box-sizing: border-box; padding: 0px; border: none; margin: auto; display: block; width: 0px; height: 0px; min-width: 100%; max-width: 100%; min-height: 100%; max-height: 100%; object-fit: cover;\"/><noscript></noscript></span></a></div><div class=\"sc-evZas fUmPFY\"><div class=\"sc-papXJ ljaODC\"><span>Family Site</span><img alt=\"\" src=\"../images/icon/ic_family.svg\" style=\"transform: rotate(0deg);\"/><div style=\"display: none;\"><ul><li><a href=\"https://www.sknetworks.co.kr/\" target=\"_blank\">SK네트웍스</a></li></ul></div></div></div></div></div></div></div><div class=\"Toastify\"></div><div style=\"position: absolute; width: 1036px; height: 651px; top: 50%; left: 50%; transform: translate(-50%, -50%); background-color: transparent; justify-content: center; align-items: center; z-index: 999; display: none; flex: 1 1 0%;\"><div style=\"width: 50px; height: 50px;\"><svg height=\"50\" preserveaspectratio=\"xMidYMid meet\" style=\"width: 100%; height: 100%; transform: translate3d(0px, 0px, 0px); content-visibility: visible;\" viewbox=\"0 0 50 50\" width=\"50\" xmlns=\"http://www.w3.org/2000/svg\"><defs><clippath id=\"__lottie_element_2\"><rect height=\"50\" width=\"50\" x=\"0\" y=\"0\"></rect></clippath></defs><g clip-path=\"url(#__lottie_element_2)\"><g opacity=\"0.41020000000000006\" style=\"display: block;\" transform=\"matrix(0.7071067690849304,-0.7071067690849304,0.7071067690849304,0.7071067690849304,24.687999725341797,24.937999725341797)\"><g opacity=\"1\" transform=\"matrix(1,0,0,1,0.24799999594688416,-12.663999557495117)\"><path d=\" M2,-8 C2,-8 2,0 2,0 C2,1.1038000583648682 1.1038000583648682,2 0,2 C0,2 0,2 0,2 C-1.1038000583648682,2 -2,1.1038000583648682 -2,0 C-2,0 -2,-8 -2,-8 C-2,-9.103799819946289 -1.1038000583648682,-10 0,-10 C0,-10 0,-10 0,-10 C1.1038000583648682,-10 2,-9.103799819946289 2,-8z\" fill=\"rgb(118,118,118)\" fill-opacity=\"1\"></path></g></g><g opacity=\"0.31020000000000003\" style=\"display: block;\" transform=\"matrix(0,-1,1,0,24.687999725341797,24.937999725341797)\"><g opacity=\"1\" transform=\"matrix(1,0,0,1,0.24799999594688416,-12.663999557495117)\"><path d=\" M2,-8 C2,-8 2,0 2,0 C2,1.1038000583648682 1.1038000583648682,2 0,2 C0,2 0,2 0,2 C-1.1038000583648682,2 -2,1.1038000583648682 -2,0 C-2,0 -2,-8 -2,-8 C-2,-9.103799819946289 -1.1038000583648682,-10 0,-10 C0,-10 0,-10 0,-10 C1.1038000583648682,-10 2,-9.103799819946289 2,-8z\" fill=\"rgb(118,118,118)\" fill-opacity=\"1\"></path></g></g><g opacity=\"0.21020000000000003\" style=\"display: block;\" transform=\"matrix(-0.7071067690849304,-0.7071067690849304,0.7071067690849304,-0.7071067690849304,24.687999725341797,24.937999725341797)\"><g opacity=\"1\" transform=\"matrix(1,0,0,1,0.24799999594688416,-12.663999557495117)\"><path d=\" M2,-8 C2,-8 2,0 2,0 C2,1.1038000583648682 1.1038000583648682,2 0,2 C0,2 0,2 0,2 C-1.1038000583648682,2 -2,1.1038000583648682 -2,0 C-2,0 -2,-8 -2,-8 C-2,-9.103799819946289 -1.1038000583648682,-10 0,-10 C0,-10 0,-10 0,-10 C1.1038000583648682,-10 2,-9.103799819946289 2,-8z\" fill=\"rgb(118,118,118)\" fill-opacity=\"1\"></path></g></g><g opacity=\"0.11020000000000003\" style=\"display: block;\" transform=\"matrix(-1,0,0,-1,24.687999725341797,24.937999725341797)\"><g opacity=\"1\" transform=\"matrix(1,0,0,1,0.24799999594688416,-12.663999557495117)\"><path d=\" M2,-8 C2,-8 2,0 2,0 C2,1.1038000583648682 1.1038000583648682,2 0,2 C0,2 0,2 0,2 C-1.1038000583648682,2 -2,1.1038000583648682 -2,0 C-2,0 -2,-8 -2,-8 C-2,-9.103799819946289 -1.1038000583648682,-10 0,-10 C0,-10 0,-10 0,-10 C1.1038000583648682,-10 2,-9.103799819946289 2,-8z\" fill=\"rgb(118,118,118)\" fill-opacity=\"1\"></path></g></g><g opacity=\"0.010200000000000032\" style=\"display: block;\" transform=\"matrix(-0.7071067690849304,0.7071067690849304,-0.7071067690849304,-0.7071067690849304,24.687999725341797,24.937999725341797)\"><g opacity=\"1\" transform=\"matrix(1,0,0,1,0.24799999594688416,-12.663999557495117)\"><path d=\" M2,-8 C2,-8 2,0 2,0 C2,1.1038000583648682 1.1038000583648682,2 0,2 C0,2 0,2 0,2 C-1.1038000583648682,2 -2,1.1038000583648682 -2,0 C-2,0 -2,-8 -2,-8 C-2,-9.103799819946289 -1.1038000583648682,-10 0,-10 C0,-10 0,-10 0,-10 C1.1038000583648682,-10 2,-9.103799819946289 2,-8z\" fill=\"rgb(118,118,118)\" fill-opacity=\"1\"></path></g></g><g opacity=\"0.6285999999999998\" style=\"display: block;\" transform=\"matrix(0,1,-1,0,24.687999725341797,24.937999725341797)\"><g opacity=\"1\" transform=\"matrix(1,0,0,1,0.24799999594688416,-12.663999557495117)\"><path d=\" M2,-8 C2,-8 2,0 2,0 C2,1.1038000583648682 1.1038000583648682,2 0,2 C0,2 0,2 0,2 C-1.1038000583648682,2 -2,1.1038000583648682 -2,0 C-2,0 -2,-8 -2,-8 C-2,-9.103799819946289 -1.1038000583648682,-10 0,-10 C0,-10 0,-10 0,-10 C1.1038000583648682,-10 2,-9.103799819946289 2,-8z\" fill=\"rgb(118,118,118)\" fill-opacity=\"1\"></path></g></g><g opacity=\"0.6102000000000001\" style=\"display: block;\" transform=\"matrix(0.7071067690849304,0.7071067690849304,-0.7071067690849304,0.7071067690849304,24.687999725341797,24.937999725341797)\"><g opacity=\"1\" transform=\"matrix(1,0,0,1,0.24799999594688416,-12.663999557495117)\"><path d=\" M2,-8 C2,-8 2,0 2,0 C2,1.1038000583648682 1.1038000583648682,2 0,2 C0,2 0,2 0,2 C-1.1038000583648682,2 -2,1.1038000583648682 -2,0 C-2,0 -2,-8 -2,-8 C-2,-9.103799819946289 -1.1038000583648682,-10 0,-10 C0,-10 0,-10 0,-10 C1.1038000583648682,-10 2,-9.103799819946289 2,-8z\" fill=\"rgb(118,118,118)\" fill-opacity=\"1\"></path></g></g><g opacity=\"0.5102\" style=\"display: block;\" transform=\"matrix(1,0,0,1,24.687999725341797,24.937999725341797)\"><g opacity=\"1\" transform=\"matrix(1,0,0,1,0.24799999594688416,-12.663999557495117)\"><path d=\" M2,-8 C2,-8 2,0 2,0 C2,1.1038000583648682 1.1038000583648682,2 0,2 C0,2 0,2 0,2 C-1.1038000583648682,2 -2,1.1038000583648682 -2,0 C-2,0 -2,-8 -2,-8 C-2,-9.103799819946289 -1.1038000583648682,-10 0,-10 C0,-10 0,-10 0,-10 C1.1038000583648682,-10 2,-9.103799819946289 2,-8z\" fill=\"rgb(118,118,118)\" fill-opacity=\"1\"></path></g></g></g></svg></div></div></div><script id=\"__NEXT_DATA__\" type=\"application/json\">{\"props\":{\"pageProps\":{\"pathname\":\"/support\"},\"initialState\":{\"common\":{\"state\":null,\"code\":null,\"message\":null,\"latitude\":null,\"longitude\":null,\"isLoading\":false,\"isLoadingChargerList\":false,\"hasMore\":true,\"alertDialog\":false,\"alertDialogType\":null,\"alertDialogDataType\":null,\"alertDialogTitle\":null,\"alertDialogMessage\":null,\"alertDialogParams\":null,\"isOpenKiaPoint\":false,\"isOpenHyundaiPoint\":false,\"applyDialogParam\":null,\"situationList\":[],\"termsList\":[],\"privateTerms\":{},\"popupList\":[]},\"charger\":{\"chargerList\":[],\"clearCircle\":[],\"chargerListMeta\":{\"currentPage\":0,\"perPage\":0,\"totalCnt\":0,\"totalPage\":0},\"searchQueryList\":[],\"searchQueryListMeta\":{\"currentPage\":0,\"perPage\":0,\"totalCnt\":0,\"totalPage\":0},\"partnerApplication\":false,\"partnerImg\":[],\"chargerApply\":{},\"chargerApplyDialog\":false,\"markerList\":[],\"chargerFilter\":{\"addition_service\":[],\"charger_point_operation\":[],\"charger_speed\":[],\"charger_type\":[],\"reservation_support\":[]},\"selectedFilterInfo\":null,\"chargerApplyAddMessage\":\"\",\"setClickPosition\":{\"lat\":0,\"lng\":0},\"searchList\":[],\"chargerInfo\":{\"basic\":{\"CALLCENTER\":\"\",\"CHARGER_SPEED\":\"\",\"GPS_LATITUDE\":\"\",\"GPS_LONGITUDE\":\"\",\"IMAGE_URI\":\"\",\"LUCKYPASS_AT\":\"\",\"MEMBER_BASIC_UNIT_PRICE\":\"\",\"MEMBER_EVENT_UNIT_PRICE\":\"\",\"NOTE\":\"\",\"NO_MEMBER_BASIC_UNIT_PRICE\":\"\",\"OPERATION_CORP\":\"\",\"OPERATION_ID\":\"\",\"OPERATION_TIME\":\"\",\"ROAD_NAME_ADDRESS\":\"\",\"ROAD_NAME_ADDRESS_DETAIL\":\"\",\"BENEFIT_AMOUNT\":\"\",\"CANCEL_AMOUNT\":\"\",\"TOTAL_PAYMENT_AMOUNT\":\"\",\"PAYMENT_AMOUNT\":\"\",\"ZIP\":\"\"},\"confusion\":{\"CHARGER_STATION_ID\":\"\",\"CHARGER_STATION_NAME\":\"\",\"OPERATION_ID\":\"\",\"OPERATION_NAME\":\"\",\"TI_00\":0,\"TI_01\":0,\"TI_02\":0,\"TI_03\":0,\"TI_04\":0,\"TI_05\":0,\"TI_06\":0,\"TI_07\":0,\"TI_08\":0,\"TI_09\":0,\"TI_10\":0,\"TI_11\":0,\"TI_12\":0,\"TI_13\":0,\"TI_14\":0,\"TI_15\":0,\"TI_16\":0,\"TI_17\":0,\"TI_18\":0,\"TI_19\":0,\"TI_20\":0,\"TI_21\":0,\"TI_22\":0,\"TI_23\":0},\"cost\":[{\"chargerType\":\"\",\"cost\":\"\",\"userType\":\"\"}],\"info\":{\"CHARGER_STATION_ID\":\"\",\"CHARGER_STATION_NAME\":\"\",\"DISTANCE\":\"\",\"IMAGE_URI\":\"\",\"OPERATION_ID\":\"\",\"OPERATION_NAME\":\"\",\"STATUS\":\"\",\"STATUS_COLOR\":\"\"},\"status\":[{\"CHARGER_ID\":\"\",\"CHARGER_SPEED\":\"\",\"CHARGER_SPEED_DISPLAY\":\"\",\"CHARGER_TYPE\":[],\"CHARGER_TYPE_CODE\":\"\",\"ELAPSED_TIME\":\"\",\"OPERATION_ID\":\"\",\"ROAD_NAME_ADDRESS_DETAIL\":\"\",\"STATUS_CODE\":\"\"}]},\"kiaMembersPoint\":{},\"hyundaiMembersPoint\":{},\"nicePayAmountInfo\":[],\"requestPayment\":{},\"selectedPaymentApply\":{},\"searchHistoryListHasMore\":false,\"chargerSearchList\":[],\"chargerSearchListPage\":1,\"chargerSearchListHasMore\":true,\"isChargerApplyModal\":false,\"isPartnerApplyModal\":false,\"cmmnCode\":[],\"chargerColorCmmnCode\":[],\"vehicleManufacturerNameCode\":[],\"vehicleModelCodeInfo\":[]},\"article\":{\"eventList\":[],\"eventListMeta\":{\"currentPage\":0,\"perPage\":0,\"totalCnt\":0,\"totalPage\":0},\"eventDetail\":null,\"noticeList\":[],\"noticeListMeta\":{\"currentPage\":0,\"perPage\":0,\"totalCnt\":0,\"totalPage\":0},\"noticeDetail\":null,\"faqList\":[],\"faqListMeta\":{\"currentPage\":0,\"perPage\":0,\"totalCnt\":0,\"totalPage\":0},\"membershipGeneralUnitInfo\":[],\"membershipRoamingUnitInfo\":[],\"membershipFreewayUnitInfo\":[],\"productList\":[]},\"customer\":{\"state\":null,\"message\":null,\"qnaList\":[],\"qnaListMeta\":{\"currentPage\":0,\"perPage\":0,\"totalCnt\":0,\"totalPage\":0},\"qnaDetail\":null},\"map\":{\"chargerList\":[],\"chargerListPage\":1,\"chargerListHasMore\":true,\"searchList\":[],\"searchListPage\":1,\"searchListHasMore\":true,\"markerList\":[],\"searchHistoryList\":[],\"myLocation\":{\"_lat\":0,\"_lng\":0}}}},\"page\":\"/support\",\"query\":{},\"buildId\":\"oiMU01jbC8H82do_NE5lx\",\"isFallback\":false,\"customServer\":true,\"appGip\":true,\"scriptLoader\":[]}</script><next-route-announcer><p aria-live=\"assertive\" id=\"__next-route-announcer__\" role=\"alert\" style=\"border: 0px; clip: rect(0px, 0px, 0px, 0px); height: 1px; margin: -1px; overflow: hidden; padding: 0px; position: absolute; width: 1px; white-space: nowrap; overflow-wrap: normal;\"></p></next-route-announcer><script data-nscript=\"afterInteractive\" src=\"https://www.googletagmanager.com/gtag/js?id=G-XCMMF67EST\"></script><script data-nscript=\"afterInteractive\" id=\"gtag-init\">\n",
       "                        window.dataLayer = window.dataLayer || [];\n",
       "                        function gtag(){dataLayer.push(arguments);}\n",
       "                        gtag('js', new Date());\n",
       "                        gtag('config', 'G-XCMMF67EST', {\n",
       "                          page_path: window.location.pathname,\n",
       "                        });\n",
       "                      </script><script src=\"/_next/static/chunks/pages/index-9febe1af99e189c3.js\"></script></body></html>"
      ]
     },
     "execution_count": 48,
     "metadata": {},
     "output_type": "execute_result"
    }
   ],
   "source": [
    "from selenium import webdriver\n",
    "\n",
    "driver = webdriver.Chrome()\n",
    "url = \"https://skelectlink.co.kr/support\"\n",
    "driver.get(url)\n",
    "\n",
    "soup = BeautifulSoup(driver.page_source, \"html.parser\")\n",
    "driver.quit()\n",
    "soup"
   ]
  },
  {
   "cell_type": "code",
   "execution_count": 82,
   "id": "d4548804-a24a-448f-8565-560c2993f1fe",
   "metadata": {},
   "outputs": [
    {
     "name": "stdout",
     "output_type": "stream",
     "text": [
      "요금\n",
      "기아멤버스 포인트로 충전요금을 결제하려면 어떻게 해야 하나요?\n"
     ]
    },
    {
     "data": {
      "text/plain": [
       "[<table class=\"sc-iIPllB PGnHl\"><thead><tr class=\"sc-gicCDI gyUfef\"><th>구분</th><th>제목</th><th style=\"color: transparent;\">-</th></tr></thead><tbody><tr class=\"sc-ezWOiH eenqgC tableItem\"><td class=\"bold\">요금</td><td>기아멤버스 포인트로 충전요금을 결제하려면 어떻게 해야 하나요?</td><td><img alt=\"\" height=\"30\" src=\"/images/icon/ic-arrow-dw-2x.png\" style=\"transform: rotate(0deg); transition: all 0.5s ease 0s;\" width=\"30\"/></td></tr></tbody><tbody><tr class=\"sc-ezWOiH eenqgC tableItem\"><td class=\"bold\">요금</td><td>블루멤버스 포인트로 충전요금을 결제하려면 어떻게 해야 하나요?</td><td><img alt=\"\" height=\"30\" src=\"/images/icon/ic-arrow-dw-2x.png\" style=\"transform: rotate(0deg); transition: all 0.5s ease 0s;\" width=\"30\"/></td></tr></tbody><tbody><tr class=\"sc-ezWOiH eenqgC tableItem\"><td class=\"bold\">기타</td><td>구매한 “SK 일렉링크 크래딧”도 있고, 무상으로 제공받은 “SK 일렉링크 크래딧”도 있어요. 마일리지랑 동시 사용이 가능한지 알려주세요.</td><td><img alt=\"\" height=\"30\" src=\"/images/icon/ic-arrow-dw-2x.png\" style=\"transform: rotate(0deg); transition: all 0.5s ease 0s;\" width=\"30\"/></td></tr></tbody><tbody><tr class=\"sc-ezWOiH eenqgC tableItem\"><td class=\"bold\">기타</td><td>“SK 일렉링크 크래딧”과 “마일리지”는 동시 사용이 가능한가요?</td><td><img alt=\"\" height=\"30\" src=\"/images/icon/ic-arrow-dw-2x.png\" style=\"transform: rotate(0deg); transition: all 0.5s ease 0s;\" width=\"30\"/></td></tr></tbody><tbody><tr class=\"sc-ezWOiH eenqgC tableItem\"><td class=\"bold\">기타</td><td>“SK 일렉링크 크래딧”과 “마일리지”는 어떻게 다른가요?</td><td><img alt=\"\" height=\"30\" src=\"/images/icon/ic-arrow-dw-2x.png\" style=\"transform: rotate(0deg); transition: all 0.5s ease 0s;\" width=\"30\"/></td></tr></tbody><tbody><tr class=\"sc-ezWOiH eenqgC tableItem\"><td class=\"bold\">기타</td><td>“SK 일렉링크 크래딧”의 사용 유효 기간이 있나요?</td><td><img alt=\"\" height=\"30\" src=\"/images/icon/ic-arrow-dw-2x.png\" style=\"transform: rotate(0deg); transition: all 0.5s ease 0s;\" width=\"30\"/></td></tr></tbody><tbody><tr class=\"sc-ezWOiH eenqgC tableItem\"><td class=\"bold\">기타</td><td>SK 일렉링크 앱카드를 사용 중인데 실물카드를 발급받고 싶어요.</td><td><img alt=\"\" height=\"30\" src=\"/images/icon/ic-arrow-dw-2x.png\" style=\"transform: rotate(0deg); transition: all 0.5s ease 0s;\" width=\"30\"/></td></tr></tbody><tbody><tr class=\"sc-ezWOiH eenqgC tableItem\"><td class=\"bold\">요금</td><td>[럭키패스] 상시가입되나요? 매월 1일 정기결제라고 되어있는데, 월 중순에 가입할 수도 있나요?</td><td><img alt=\"\" height=\"30\" src=\"/images/icon/ic-arrow-dw-2x.png\" style=\"transform: rotate(0deg); transition: all 0.5s ease 0s;\" width=\"30\"/></td></tr></tbody><tbody><tr class=\"sc-ezWOiH eenqgC tableItem\"><td class=\"bold\">요금</td><td>[럭키패스] 매월 1일 정기결제라고 되어있는데, 구독시점에 따라 매월 구독료 결제 시기가 다른가요?</td><td><img alt=\"\" height=\"30\" src=\"/images/icon/ic-arrow-dw-2x.png\" style=\"transform: rotate(0deg); transition: all 0.5s ease 0s;\" width=\"30\"/></td></tr></tbody><tbody><tr class=\"sc-ezWOiH eenqgC tableItem\"><td class=\"bold\">요금</td><td>[럭키패스] 가입상품 이용량 초과시, 추가로 제공되는 혜택이 있는지, 정상충전요금의 3% 적립만 되는 건지 궁금해요.</td><td><img alt=\"\" height=\"30\" src=\"/images/icon/ic-arrow-dw-2x.png\" style=\"transform: rotate(0deg); transition: all 0.5s ease 0s;\" width=\"30\"/></td></tr></tbody></table>]"
      ]
     },
     "execution_count": 82,
     "metadata": {},
     "output_type": "execute_result"
    }
   ],
   "source": [
    "#__next > div.sc-ivTmOn.gfKKzk > table > tbody:nth-child(2) > tr > td:nth-child(2)\n",
    "\n",
    "# faq_info = soup.find_all('tr', {'class':\"sc-ezWOiH eenqgC tableItem\"})\n",
    "cat_info = soup.select(\"#__next > div.sc-ivTmOn.gfKKzk > table > tbody:nth-child(2) > tr > td.bold\")\n",
    "print(cat_info[0].text)\n",
    "\n",
    "faq_info = soup.select(\"#__next > div.sc-ivTmOn.gfKKzk > table > tbody:nth-child(2) > tr > td:nth-child(2)\")\n",
    "print(faq_info[0].text)\n",
    "\n",
    "ansr_info = soup.select(\"#__next > div.sc-ivTmOn.gfKKzk > table\")\n",
    "ansr_info"
   ]
  },
  {
   "cell_type": "code",
   "execution_count": 4,
   "id": "67fe7896-6f54-459a-9bf7-36f5c1e8cb6f",
   "metadata": {
    "scrolled": true
   },
   "outputs": [],
   "source": [
    "from selenium import webdriver\n",
    "from bs4 import BeautifulSoup\n",
    "import time\n",
    "from selenium.webdriver.common.by import By\n",
    "import pandas as pd\n",
    "import os\n",
    "from selenium.webdriver.common.keys import Keys\n",
    "\n",
    "driver = webdriver.Chrome()\n",
    "url = \"https://skelectlink.co.kr/support\"\n",
    "driver.get(url)\n",
    "time.sleep(0.7)\n",
    "data=[]\n",
    "category = []\n",
    "question = []\n",
    "answer = []\n",
    " \n",
    "# print(n)\n",
    "# xPath2 = '//*[@id=\"__next\"]/div[2]/div[1]/div[1]/p[6]'\n",
    "# driver.find_element(By.XPATH, xPath2).click()\n",
    "# //*[@id=\"__next\"]/div[2]/div[1]/div[1]/p[2]?\n",
    "idx = [0,2,3,4]\n",
    "for j in idx:\n",
    "    time.sleep(3)\n",
    "    xPath2 = f'//*[@id=\"__next\"]/div[2]/div[1]/div[1]/p[{j+2}]'\n",
    "    # driver.find_element(By.XPATH, xPath2).send_keys(Keys.ENTER)\n",
    "    driver.find_element(By.XPATH, xPath2).click()\n",
    "    time.sleep(1)\n",
    "    n = len(soup.select(\"#__next > div.sc-ivTmOn.gfKKzk > table > tbody\"))\n",
    "    for i in range(n): # faq 크롤링\n",
    "        time.sleep(1)\n",
    "        xPath1 = f'//*[@id=\"__next\"]/div[2]/table/tbody[{i+1}]/tr[1]/td[2]' # 질문 클릭 -> 클릭을 해야 답안을 크롤링 가능\n",
    "        driver.find_element(By.XPATH, xPath1).click()\n",
    "        soup = BeautifulSoup(driver.page_source, \"html.parser\")\n",
    "    \n",
    "        c = soup.select(f\"#__next > div.sc-ivTmOn.gfKKzk > table > tbody:nth-child({i+2}) > tr.sc-ezWOiH.eenqgC.tableItem > td.bold\")[0].text\n",
    "        q = soup.select(f\"#__next tbody:nth-child({i+2}) td\")[1].text\n",
    "        a = soup.select(f\"#__next tbody:nth-child({i+2}) p\")[0].text\n",
    "        \n",
    "        print(c)\n",
    "        print(q)\n",
    "        print(a)\n",
    "        print()\n",
    "\n",
    "    time.sleep(1)\n",
    "\n",
    "    # driver.execute_script(\"window.scrollTo(0, 0);\")\n",
    "        # data.append([c, q, a])\n",
    "\n",
    "    \n",
    "\n",
    "# df = pd.DataFrame(data, columns = [\"카테고리\", \"질문\", \"답\"])\n",
    "# df.to_csv(\"./전체_찐.csv\", index = False, encoding='utf-8')\n",
    "        \n",
    "# result 파일 경로 만들기\n",
    "# result_path = os.path.join(os.getcwd(),'FAQ')\n",
    "# os.makedirs(result_path, exist_ok=True)\n",
    "# # csv로 저장\n",
    "# df.to_csv(os.path.join(result_path,'FAQ.xlsx'), index=False, encoding='utf-8')\n",
    "# print(f'#### \"review.xlsx\"가 {result_path}에 저장되었습니다. ####')"
   ]
  },
  {
   "cell_type": "code",
   "execution_count": 5,
   "id": "94203687-4c06-455a-b32b-154c10e30603",
   "metadata": {},
   "outputs": [],
   "source": [
    "import pandas as pd\n"
   ]
  }
 ],
 "metadata": {
  "kernelspec": {
   "display_name": "Python 3 (ipykernel)",
   "language": "python",
   "name": "python3"
  },
  "language_info": {
   "codemirror_mode": {
    "name": "ipython",
    "version": 3
   },
   "file_extension": ".py",
   "mimetype": "text/x-python",
   "name": "python",
   "nbconvert_exporter": "python",
   "pygments_lexer": "ipython3",
   "version": "3.11.7"
  }
 },
 "nbformat": 4,
 "nbformat_minor": 5
}
